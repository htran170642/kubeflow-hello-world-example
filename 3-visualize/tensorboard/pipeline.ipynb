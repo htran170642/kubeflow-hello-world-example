{
 "cells": [
  {
   "cell_type": "code",
   "execution_count": 3,
   "metadata": {},
   "outputs": [],
   "source": [
    "# Copyright 2019 Google LLC\n",
    "#\n",
    "# Licensed under the Apache License, Version 2.0 (the \"License\");\n",
    "# you may not use this file except in compliance with the License.\n",
    "# You may obtain a copy of the License at\n",
    "#\n",
    "#      http://www.apache.org/licenses/LICENSE-2.0\n",
    "#\n",
    "# Unless required by applicable law or agreed to in writing, software\n",
    "# distributed under the License is distributed on an \"AS IS\" BASIS,\n",
    "# WITHOUT WARRANTIES OR CONDITIONS OF ANY KIND, either express or implied.\n",
    "# See the License for the specific language governing permissions and\n",
    "# limitations under the License.\n",
    "\"\"\"\n",
    "Kubeflow Pipelines MNIST example\n",
    "\n",
    "Run this script to compile pipeline\n",
    "\"\"\"\n",
    "\n",
    "\n",
    "import kfp.dsl as dsl\n",
    "\n",
    "TENSORBOARD_PATH = '/mnt'\n",
    "\n",
    "@dsl.pipeline(\n",
    "  name='MNIST',\n",
    "  description='A pipeline to train and serve the MNIST example.'\n",
    ")\n",
    "def mnist_pipeline(epochs):\n",
    "\n",
    "    train_task = dsl.ContainerOp(\n",
    "        name='train',\n",
    "        image='docker.io/170642/pytorch-mnist-tb',\n",
    "        command=['python3', '/opt/pytorch-mnist/mnist.py'],\n",
    "        arguments=[\n",
    "            \"--epochs\", epochs,\n",
    "            \"--workflow_uid\", \"{{workflow.uid}}\"\n",
    "            ],\n",
    "        pvolumes={\"/mnt\": dsl.PipelineVolume(pvc=\"tb-logs\")},\n",
    "        file_outputs={\n",
    "                \"runs_train\": TENSORBOARD_PATH\n",
    "            }\n",
    "    )\n",
    "    log_dir = dsl.InputArgumentPath(\n",
    "                train_task.outputs['runs_train'],\n",
    "                path=TENSORBOARD_PATH)\n",
    "                \n",
    "    visualize = dsl.ContainerOp(\n",
    "        name='visualize',\n",
    "        image='docker.io/170642/pytorch-mnist-tb',\n",
    "        command=['python3', 'tensorboard_comp.py'],\n",
    "        arguments=[\n",
    "            \"--logdir\", log_dir,\n",
    "            ],\n",
    "        file_outputs={\n",
    "                \"mlpipeline-metrics\": '/mnt/mlpipeline-ui-metadata.json'\n",
    "            }\n",
    "    )\n",
    "\n",
    "if __name__ == '__main__':\n",
    "  import kfp.compiler as compiler\n",
    "  compiler.Compiler().compile(mnist_pipeline,  'mnist_pipeline.tar.gz')\n"
   ]
  },
  {
   "cell_type": "code",
   "execution_count": null,
   "metadata": {},
   "outputs": [],
   "source": []
  }
 ],
 "metadata": {
  "interpreter": {
   "hash": "916dbcbb3f70747c44a77c7bcd40155683ae19c65e1c03b4aa3499c5328201f1"
  },
  "kernelspec": {
   "display_name": "Python 3.8.10 64-bit",
   "language": "python",
   "name": "python3"
  },
  "language_info": {
   "codemirror_mode": {
    "name": "ipython",
    "version": 3
   },
   "file_extension": ".py",
   "mimetype": "text/x-python",
   "name": "python",
   "nbconvert_exporter": "python",
   "pygments_lexer": "ipython3",
   "version": "3.8.12"
  },
  "orig_nbformat": 4
 },
 "nbformat": 4,
 "nbformat_minor": 2
}
